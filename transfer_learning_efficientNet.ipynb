{
 "cells": [
  {
   "cell_type": "markdown",
   "metadata": {},
   "source": [
    "# Tutorial: Transfer Learning with EfficientNet\n",
    "## 1) Import Libraries\n",
    "\n",
    "- This tutorial is tested with tensorflow 2.1 gpu\n",
    "- EfficientNetB0 comes from keras_applications.efficientnet"
   ]
  },
  {
   "cell_type": "code",
   "execution_count": null,
   "metadata": {},
   "outputs": [],
   "source": [
    "from pathlib import Path\n",
    "\n",
    "from tensorflow.keras.layers import Flatten, Dense, GlobalAveragePooling2D\n",
    "from tensorflow.keras.models import Model\n",
    "\n",
    "from keras_preprocessing.image import ImageDataGenerator\n",
    "from keras_applications.efficientnet import EfficientNetB0\n",
    "\n",
    "import tensorflow as tf\n",
    "import tensorflow.keras.backend as K\n",
    "K.set_image_data_format('channels_last')\n",
    "\n",
    "import matplotlib.pyplot as plt\n",
    "%matplotlib inline"
   ]
  },
  {
   "cell_type": "markdown",
   "metadata": {},
   "source": [
    "## 2) Download dataset, and set directory paths\n",
    "- Image dataset comes from https://github.com/fastai/imagenette\n",
    "- The 320 px dataset is used here\n",
    "- Download link: https://s3.amazonaws.com/fast-ai-imageclas/imagenette2-320.tgz"
   ]
  },
  {
   "cell_type": "code",
   "execution_count": 2,
   "metadata": {},
   "outputs": [],
   "source": [
    "current_dir = Path().absolute()\n",
    "\n",
    "train_dir = current_dir.joinpath('data/imagenette2-320/train')\n",
    "val_dir = current_dir.joinpath('data/imagenette2-320/val')"
   ]
  },
  {
   "cell_type": "markdown",
   "metadata": {},
   "source": [
    "## 3) Create image data generators\n",
    "- If GPU runs out of memory, consider changing batch_size (e.g. batch_size = 16)"
   ]
  },
  {
   "cell_type": "code",
   "execution_count": 3,
   "metadata": {},
   "outputs": [
    {
     "name": "stdout",
     "output_type": "stream",
     "text": [
      "Found 9469 images belonging to 10 classes.\n",
      "Found 3925 images belonging to 10 classes.\n"
     ]
    }
   ],
   "source": [
    "batch_size=32\n",
    "num_classes=10\n",
    "input_shape = (224, 224, 3)\n",
    "\n",
    "# Normalize images\n",
    "train_datagen = ImageDataGenerator(rescale = 1./255)\n",
    "val_datagen = ImageDataGenerator(rescale = 1./255)\n",
    "\n",
    "train_it = train_datagen.flow_from_directory(train_dir, target_size=input_shape[:2], shuffle=True, class_mode='categorical', batch_size=batch_size)\n",
    "val_it = val_datagen.flow_from_directory(val_dir, target_size=input_shape[:2], shuffle=True, class_mode='categorical', batch_size=batch_size)"
   ]
  },
  {
   "cell_type": "markdown",
   "metadata": {},
   "source": [
    "## 4) Create base model from EfficientNetB0\n",
    "- We will fine tune EfficientNet to our dataset -> include_top = False"
   ]
  },
  {
   "cell_type": "code",
   "execution_count": 4,
   "metadata": {},
   "outputs": [],
   "source": [
    "kwargs = {'backend': tf.keras.backend, 'layers': tf.keras.layers,\n",
    "          'models': tf.keras.models, 'utils': tf.keras.utils}\n",
    "\n",
    "base_model = EfficientNetB0(include_top=False, weights='imagenet', input_shape=input_shape, **kwargs)"
   ]
  },
  {
   "cell_type": "markdown",
   "metadata": {},
   "source": [
    "## 5) Add some top layers, make base model untrainable, compile"
   ]
  },
  {
   "cell_type": "code",
   "execution_count": null,
   "metadata": {},
   "outputs": [],
   "source": [
    "x = base_model.output\n",
    "x = GlobalAveragePooling2D()(x)\n",
    "x = Flatten()(x)\n",
    "predictions = Dense(num_classes, activation='softmax')(x)\n",
    "\n",
    "new_model = Model(inputs=base_model.input, outputs=predictions)\n",
    "\n",
    "for layer in base_model.layers:\n",
    "    layer.trainable = False\n",
    "    \n",
    "new_model.compile(optimizer='Adam', loss = 'categorical_crossentropy', metrics=['accuracy'])\n",
    "new_model.summary()"
   ]
  },
  {
   "cell_type": "markdown",
   "metadata": {},
   "source": [
    "## 6) Train/fit model to dataset"
   ]
  },
  {
   "cell_type": "code",
   "execution_count": 6,
   "metadata": {},
   "outputs": [
    {
     "name": "stdout",
     "output_type": "stream",
     "text": [
      "WARNING:tensorflow:sample_weight modes were coerced from\n",
      "  ...\n",
      "    to  \n",
      "  ['...']\n",
      "WARNING:tensorflow:sample_weight modes were coerced from\n",
      "  ...\n",
      "    to  \n",
      "  ['...']\n",
      "Train for 296 steps, validate for 123 steps\n",
      "Epoch 1/5\n",
      "296/296 [==============================] - 70s 235ms/step - loss: 0.3063 - accuracy: 0.9378 - val_loss: 0.0938 - val_accuracy: 0.9771\n",
      "Epoch 2/5\n",
      "296/296 [==============================] - 60s 203ms/step - loss: 0.0817 - accuracy: 0.9797 - val_loss: 0.0679 - val_accuracy: 0.9827\n",
      "Epoch 3/5\n",
      "296/296 [==============================] - 60s 204ms/step - loss: 0.0578 - accuracy: 0.9853 - val_loss: 0.0600 - val_accuracy: 0.9827\n",
      "Epoch 4/5\n",
      "296/296 [==============================] - 61s 206ms/step - loss: 0.0477 - accuracy: 0.9868 - val_loss: 0.0565 - val_accuracy: 0.9837\n",
      "Epoch 5/5\n",
      "296/296 [==============================] - 62s 208ms/step - loss: 0.0350 - accuracy: 0.9917 - val_loss: 0.0536 - val_accuracy: 0.9839\n"
     ]
    }
   ],
   "source": [
    "num_epochs = 5\n",
    "\n",
    "history = new_model.fit(train_it, validation_data = val_it, epochs=num_epochs, verbose = 1)"
   ]
  },
  {
   "cell_type": "markdown",
   "metadata": {},
   "source": [
    "## 7) Plot Training/Validation History"
   ]
  },
  {
   "cell_type": "code",
   "execution_count": 7,
   "metadata": {},
   "outputs": [
    {
     "data": {
      "image/png": "[encoded data removed]",
      "text/plain": [
       "<Figure size 432x288 with 2 Axes>"
      ]
     },
     "metadata": {
      "needs_background": "light"
     },
     "output_type": "display_data"
    }
   ],
   "source": [
    "acc = history.history['accuracy']\n",
    "val_acc = history.history['val_accuracy']\n",
    "loss = history.history['loss']\n",
    "val_loss = history.history['val_loss']\n",
    "\n",
    "epochs = range(len(acc))\n",
    "\n",
    "plt.subplot(121)\n",
    "plt.plot(epochs, acc, 'b', label='Training Acc')\n",
    "plt.plot(epochs, val_acc, 'r', label='Validation Acc')\n",
    "plt.title('Train/Val Accuracy')\n",
    "plt.legend()\n",
    "\n",
    "plt.subplot(122)\n",
    "plt.plot(epochs, loss, 'b', label='Training Loss')\n",
    "plt.plot(epochs, val_loss, 'r', label='Validation Loss')\n",
    "plt.title('Train/Val Loss')\n",
    "plt.legend()\n",
    "\n",
    "plt.show()"
   ]
  },
  {
   "cell_type": "code",
   "execution_count": null,
   "metadata": {},
   "outputs": [],
   "source": []
  },
  {
   "cell_type": "code",
   "execution_count": null,
   "metadata": {},
   "outputs": [],
   "source": []
  }
 ],
 "metadata": {
  "kernelspec": {
   "display_name": "Python 3",
   "language": "python",
   "name": "python3"
  },
  "language_info": {
   "codemirror_mode": {
    "name": "ipython",
    "version": 3
   },
   "file_extension": ".py",
   "mimetype": "text/x-python",
   "name": "python",
   "nbconvert_exporter": "python",
   "pygments_lexer": "ipython3",
   "version": "3.7.6"
  }
 },
 "nbformat": 4,
 "nbformat_minor": 2
}
